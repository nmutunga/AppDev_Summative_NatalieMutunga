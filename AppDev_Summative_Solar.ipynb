{
 "cells": [
  {
   "cell_type": "markdown",
   "metadata": {},
   "source": [
    "# Application Development Summative"
   ]
  },
  {
   "cell_type": "markdown",
   "metadata": {},
   "source": [
    "## Solar Plant Data"
   ]
  },
  {
   "cell_type": "markdown",
   "metadata": {},
   "source": [
    "The first step in the process is to train a machine learning model using data collected from the solar and wind farms. This notebook will focus on the solar data."
   ]
  },
  {
   "cell_type": "code",
   "execution_count": 85,
   "metadata": {},
   "outputs": [],
   "source": [
    "#import the libraries\n",
    "import pandas as pd\n",
    "import numpy as np\n",
    "import seaborn as sns\n",
    "import matplotlib.pyplot as plt\n",
    "import pickle"
   ]
  },
  {
   "cell_type": "code",
   "execution_count": 86,
   "metadata": {},
   "outputs": [],
   "source": [
    "%matplotlib inline"
   ]
  },
  {
   "cell_type": "code",
   "execution_count": 87,
   "metadata": {},
   "outputs": [],
   "source": [
    "#read in the solar data into a dataframe\n",
    "solar_data = pd.read_csv(r\"C:\\Users\\Admin\\Documents\\AIIP\\AppDev\\Summative\\solar_generation_data.csv\", encoding='utf8')"
   ]
  },
  {
   "cell_type": "code",
   "execution_count": 88,
   "metadata": {},
   "outputs": [
    {
     "data": {
      "text/html": [
       "<div>\n",
       "<style scoped>\n",
       "    .dataframe tbody tr th:only-of-type {\n",
       "        vertical-align: middle;\n",
       "    }\n",
       "\n",
       "    .dataframe tbody tr th {\n",
       "        vertical-align: top;\n",
       "    }\n",
       "\n",
       "    .dataframe thead th {\n",
       "        text-align: right;\n",
       "    }\n",
       "</style>\n",
       "<table border=\"1\" class=\"dataframe\">\n",
       "  <thead>\n",
       "    <tr style=\"text-align: right;\">\n",
       "      <th></th>\n",
       "      <th>Month</th>\n",
       "      <th>Day</th>\n",
       "      <th>Temp Hi</th>\n",
       "      <th>Temp Low</th>\n",
       "      <th>Solar</th>\n",
       "      <th>Cloud Cover Percentage</th>\n",
       "      <th>Rainfall in mm</th>\n",
       "      <th>Power Generated in MW</th>\n",
       "    </tr>\n",
       "  </thead>\n",
       "  <tbody>\n",
       "    <tr>\n",
       "      <td>360</td>\n",
       "      <td>Dec</td>\n",
       "      <td>27</td>\n",
       "      <td>101°</td>\n",
       "      <td>83°</td>\n",
       "      <td>26.4</td>\n",
       "      <td>8</td>\n",
       "      <td>NaN</td>\n",
       "      <td>8.74</td>\n",
       "    </tr>\n",
       "    <tr>\n",
       "      <td>361</td>\n",
       "      <td>Dec</td>\n",
       "      <td>28</td>\n",
       "      <td>102°</td>\n",
       "      <td>84°</td>\n",
       "      <td>25.8</td>\n",
       "      <td>8</td>\n",
       "      <td>NaN</td>\n",
       "      <td>8.54</td>\n",
       "    </tr>\n",
       "    <tr>\n",
       "      <td>362</td>\n",
       "      <td>Dec</td>\n",
       "      <td>29</td>\n",
       "      <td>104°</td>\n",
       "      <td>83°</td>\n",
       "      <td>26.9</td>\n",
       "      <td>8</td>\n",
       "      <td>NaN</td>\n",
       "      <td>8.91</td>\n",
       "    </tr>\n",
       "    <tr>\n",
       "      <td>363</td>\n",
       "      <td>Dec</td>\n",
       "      <td>30</td>\n",
       "      <td>105°</td>\n",
       "      <td>80°</td>\n",
       "      <td>25.1</td>\n",
       "      <td>8</td>\n",
       "      <td>NaN</td>\n",
       "      <td>8.31</td>\n",
       "    </tr>\n",
       "    <tr>\n",
       "      <td>364</td>\n",
       "      <td>Dec</td>\n",
       "      <td>31</td>\n",
       "      <td>108°</td>\n",
       "      <td>81°</td>\n",
       "      <td>29.0</td>\n",
       "      <td>9</td>\n",
       "      <td>NaN</td>\n",
       "      <td>9.60</td>\n",
       "    </tr>\n",
       "  </tbody>\n",
       "</table>\n",
       "</div>"
      ],
      "text/plain": [
       "    Month   Day Temp Hi Temp Low  Solar  Cloud Cover Percentage  \\\n",
       "360    Dec   27    101°      83°   26.4                       8   \n",
       "361    Dec   28    102°      84°   25.8                       8   \n",
       "362    Dec   29    104°      83°   26.9                       8   \n",
       "363    Dec   30    105°      80°   25.1                       8   \n",
       "364    Dec   31    108°      81°   29.0                       9   \n",
       "\n",
       "     Rainfall in mm  Power Generated in MW  \n",
       "360             NaN                   8.74  \n",
       "361             NaN                   8.54  \n",
       "362             NaN                   8.91  \n",
       "363             NaN                   8.31  \n",
       "364             NaN                   9.60  "
      ]
     },
     "execution_count": 88,
     "metadata": {},
     "output_type": "execute_result"
    }
   ],
   "source": [
    "solar_data.tail()"
   ]
  },
  {
   "cell_type": "code",
   "execution_count": 89,
   "metadata": {},
   "outputs": [
    {
     "data": {
      "text/plain": [
       "Month                      Jan\n",
       "Day                          1\n",
       "Temp Hi                   109°\n",
       "Temp Low                   85°\n",
       "Solar                       30\n",
       "Cloud Cover Percentage       9\n",
       "Rainfall in mm               0\n",
       "Power Generated in MW     9.93\n",
       "Name: 0, dtype: object"
      ]
     },
     "execution_count": 89,
     "metadata": {},
     "output_type": "execute_result"
    }
   ],
   "source": [
    "solar_data.iloc[0] #display the first row"
   ]
  },
  {
   "cell_type": "code",
   "execution_count": 90,
   "metadata": {
    "scrolled": true
   },
   "outputs": [
    {
     "name": "stdout",
     "output_type": "stream",
     "text": [
      "<class 'pandas.core.frame.DataFrame'>\n",
      "RangeIndex: 365 entries, 0 to 364\n",
      "Data columns (total 8 columns):\n",
      "Month                     365 non-null object\n",
      "Day                       365 non-null int64\n",
      "Temp Hi                   365 non-null object\n",
      "Temp Low                  365 non-null object\n",
      "Solar                     365 non-null float64\n",
      "Cloud Cover Percentage    365 non-null int64\n",
      "Rainfall in mm            312 non-null float64\n",
      "Power Generated in MW     365 non-null float64\n",
      "dtypes: float64(3), int64(2), object(3)\n",
      "memory usage: 22.9+ KB\n"
     ]
    }
   ],
   "source": [
    "solar_data.info() #display what type of data is in the dataframe"
   ]
  },
  {
   "cell_type": "code",
   "execution_count": 91,
   "metadata": {},
   "outputs": [
    {
     "data": {
      "text/plain": [
       "Index(['Month ', 'Temp Hi', 'Temp Low'], dtype='object')"
      ]
     },
     "execution_count": 91,
     "metadata": {},
     "output_type": "execute_result"
    }
   ],
   "source": [
    "solar_data.columns[solar_data.dtypes == object] #check the columns with datatype=object"
   ]
  },
  {
   "cell_type": "code",
   "execution_count": 92,
   "metadata": {},
   "outputs": [],
   "source": [
    "solar_data['Temp Hi'] = solar_data['Temp Hi'].replace('\\u00b0','', regex=True) #replace unicode for degree to enable conversion to float"
   ]
  },
  {
   "cell_type": "code",
   "execution_count": 93,
   "metadata": {},
   "outputs": [],
   "source": [
    "solar_data['Temp Low'] = solar_data['Temp Low'].replace('\\u00b0','', regex=True)"
   ]
  },
  {
   "cell_type": "code",
   "execution_count": 94,
   "metadata": {},
   "outputs": [
    {
     "data": {
      "text/plain": [
       "['Month ',\n",
       " 'Day',\n",
       " 'Temp Hi',\n",
       " 'Temp Low',\n",
       " 'Solar',\n",
       " 'Cloud Cover Percentage',\n",
       " 'Rainfall in mm',\n",
       " 'Power Generated in MW']"
      ]
     },
     "execution_count": 94,
     "metadata": {},
     "output_type": "execute_result"
    }
   ],
   "source": [
    "solar_data.columns.to_list() #we run this code to check for any additional white spaces or characters that result in errors when calling columns"
   ]
  },
  {
   "cell_type": "code",
   "execution_count": 95,
   "metadata": {},
   "outputs": [],
   "source": [
    "solar_data.rename(columns=lambda x: x.replace(' ','') if ' ' in x else x, inplace= True) #remove the unwanted string in our column names"
   ]
  },
  {
   "cell_type": "code",
   "execution_count": 96,
   "metadata": {},
   "outputs": [],
   "source": [
    "#convert month to integer\n",
    "d = {'JAN':1, 'FEB':2, 'MAR':3, 'APR':4, 'MAY':5, 'JUN':6, 'JUL':7, 'AUG':8, 'SEP':9, 'OCT':10, 'NOV':11, 'DEC':12}\n",
    "\n",
    "solar_data.Month = solar_data.Month.str.upper().map(d) #map the integers to corresponding month in the dataframe"
   ]
  },
  {
   "cell_type": "code",
   "execution_count": 97,
   "metadata": {},
   "outputs": [
    {
     "data": {
      "text/html": [
       "<div>\n",
       "<style scoped>\n",
       "    .dataframe tbody tr th:only-of-type {\n",
       "        vertical-align: middle;\n",
       "    }\n",
       "\n",
       "    .dataframe tbody tr th {\n",
       "        vertical-align: top;\n",
       "    }\n",
       "\n",
       "    .dataframe thead th {\n",
       "        text-align: right;\n",
       "    }\n",
       "</style>\n",
       "<table border=\"1\" class=\"dataframe\">\n",
       "  <thead>\n",
       "    <tr style=\"text-align: right;\">\n",
       "      <th></th>\n",
       "      <th>Month</th>\n",
       "      <th>Day</th>\n",
       "      <th>TempHi</th>\n",
       "      <th>TempLow</th>\n",
       "      <th>Solar</th>\n",
       "      <th>CloudCoverPercentage</th>\n",
       "      <th>Rainfallinmm</th>\n",
       "      <th>PowerGeneratedinMW</th>\n",
       "    </tr>\n",
       "  </thead>\n",
       "  <tbody>\n",
       "    <tr>\n",
       "      <td>0</td>\n",
       "      <td>1</td>\n",
       "      <td>1</td>\n",
       "      <td>109</td>\n",
       "      <td>85</td>\n",
       "      <td>30.0</td>\n",
       "      <td>9</td>\n",
       "      <td>0.0</td>\n",
       "      <td>9.93</td>\n",
       "    </tr>\n",
       "    <tr>\n",
       "      <td>1</td>\n",
       "      <td>1</td>\n",
       "      <td>2</td>\n",
       "      <td>106</td>\n",
       "      <td>71</td>\n",
       "      <td>30.1</td>\n",
       "      <td>9</td>\n",
       "      <td>0.0</td>\n",
       "      <td>9.97</td>\n",
       "    </tr>\n",
       "    <tr>\n",
       "      <td>2</td>\n",
       "      <td>1</td>\n",
       "      <td>3</td>\n",
       "      <td>106</td>\n",
       "      <td>81</td>\n",
       "      <td>29.5</td>\n",
       "      <td>9</td>\n",
       "      <td>0.0</td>\n",
       "      <td>9.77</td>\n",
       "    </tr>\n",
       "    <tr>\n",
       "      <td>3</td>\n",
       "      <td>1</td>\n",
       "      <td>4</td>\n",
       "      <td>102</td>\n",
       "      <td>83</td>\n",
       "      <td>13.0</td>\n",
       "      <td>4</td>\n",
       "      <td>0.0</td>\n",
       "      <td>4.30</td>\n",
       "    </tr>\n",
       "    <tr>\n",
       "      <td>4</td>\n",
       "      <td>1</td>\n",
       "      <td>5</td>\n",
       "      <td>105</td>\n",
       "      <td>80</td>\n",
       "      <td>30.1</td>\n",
       "      <td>9</td>\n",
       "      <td>0.0</td>\n",
       "      <td>9.97</td>\n",
       "    </tr>\n",
       "    <tr>\n",
       "      <td>...</td>\n",
       "      <td>...</td>\n",
       "      <td>...</td>\n",
       "      <td>...</td>\n",
       "      <td>...</td>\n",
       "      <td>...</td>\n",
       "      <td>...</td>\n",
       "      <td>...</td>\n",
       "      <td>...</td>\n",
       "    </tr>\n",
       "    <tr>\n",
       "      <td>360</td>\n",
       "      <td>12</td>\n",
       "      <td>27</td>\n",
       "      <td>101</td>\n",
       "      <td>83</td>\n",
       "      <td>26.4</td>\n",
       "      <td>8</td>\n",
       "      <td>NaN</td>\n",
       "      <td>8.74</td>\n",
       "    </tr>\n",
       "    <tr>\n",
       "      <td>361</td>\n",
       "      <td>12</td>\n",
       "      <td>28</td>\n",
       "      <td>102</td>\n",
       "      <td>84</td>\n",
       "      <td>25.8</td>\n",
       "      <td>8</td>\n",
       "      <td>NaN</td>\n",
       "      <td>8.54</td>\n",
       "    </tr>\n",
       "    <tr>\n",
       "      <td>362</td>\n",
       "      <td>12</td>\n",
       "      <td>29</td>\n",
       "      <td>104</td>\n",
       "      <td>83</td>\n",
       "      <td>26.9</td>\n",
       "      <td>8</td>\n",
       "      <td>NaN</td>\n",
       "      <td>8.91</td>\n",
       "    </tr>\n",
       "    <tr>\n",
       "      <td>363</td>\n",
       "      <td>12</td>\n",
       "      <td>30</td>\n",
       "      <td>105</td>\n",
       "      <td>80</td>\n",
       "      <td>25.1</td>\n",
       "      <td>8</td>\n",
       "      <td>NaN</td>\n",
       "      <td>8.31</td>\n",
       "    </tr>\n",
       "    <tr>\n",
       "      <td>364</td>\n",
       "      <td>12</td>\n",
       "      <td>31</td>\n",
       "      <td>108</td>\n",
       "      <td>81</td>\n",
       "      <td>29.0</td>\n",
       "      <td>9</td>\n",
       "      <td>NaN</td>\n",
       "      <td>9.60</td>\n",
       "    </tr>\n",
       "  </tbody>\n",
       "</table>\n",
       "<p>365 rows × 8 columns</p>\n",
       "</div>"
      ],
      "text/plain": [
       "     Month  Day TempHi TempLow  Solar  CloudCoverPercentage  Rainfallinmm  \\\n",
       "0        1    1    109      85   30.0                     9           0.0   \n",
       "1        1    2    106      71   30.1                     9           0.0   \n",
       "2        1    3    106      81   29.5                     9           0.0   \n",
       "3        1    4    102      83   13.0                     4           0.0   \n",
       "4        1    5    105      80   30.1                     9           0.0   \n",
       "..     ...  ...    ...     ...    ...                   ...           ...   \n",
       "360     12   27    101      83   26.4                     8           NaN   \n",
       "361     12   28    102      84   25.8                     8           NaN   \n",
       "362     12   29    104      83   26.9                     8           NaN   \n",
       "363     12   30    105      80   25.1                     8           NaN   \n",
       "364     12   31    108      81   29.0                     9           NaN   \n",
       "\n",
       "     PowerGeneratedinMW  \n",
       "0                  9.93  \n",
       "1                  9.97  \n",
       "2                  9.77  \n",
       "3                  4.30  \n",
       "4                  9.97  \n",
       "..                  ...  \n",
       "360                8.74  \n",
       "361                8.54  \n",
       "362                8.91  \n",
       "363                8.31  \n",
       "364                9.60  \n",
       "\n",
       "[365 rows x 8 columns]"
      ]
     },
     "execution_count": 97,
     "metadata": {},
     "output_type": "execute_result"
    }
   ],
   "source": [
    "solar_data"
   ]
  },
  {
   "cell_type": "markdown",
   "metadata": {},
   "source": [
    "We insert a year, randomly selected so that we can convert the dates to datetime.We drop date time in the model and don't use the year later, i just do this for some plots."
   ]
  },
  {
   "cell_type": "code",
   "execution_count": 98,
   "metadata": {},
   "outputs": [
    {
     "data": {
      "text/html": [
       "<div>\n",
       "<style scoped>\n",
       "    .dataframe tbody tr th:only-of-type {\n",
       "        vertical-align: middle;\n",
       "    }\n",
       "\n",
       "    .dataframe tbody tr th {\n",
       "        vertical-align: top;\n",
       "    }\n",
       "\n",
       "    .dataframe thead th {\n",
       "        text-align: right;\n",
       "    }\n",
       "</style>\n",
       "<table border=\"1\" class=\"dataframe\">\n",
       "  <thead>\n",
       "    <tr style=\"text-align: right;\">\n",
       "      <th></th>\n",
       "      <th>Month</th>\n",
       "      <th>Day</th>\n",
       "      <th>TempHi</th>\n",
       "      <th>TempLow</th>\n",
       "      <th>Solar</th>\n",
       "      <th>CloudCoverPercentage</th>\n",
       "      <th>Rainfallinmm</th>\n",
       "      <th>PowerGeneratedinMW</th>\n",
       "      <th>Year</th>\n",
       "    </tr>\n",
       "  </thead>\n",
       "  <tbody>\n",
       "    <tr>\n",
       "      <td>0</td>\n",
       "      <td>1</td>\n",
       "      <td>1</td>\n",
       "      <td>109</td>\n",
       "      <td>85</td>\n",
       "      <td>30.0</td>\n",
       "      <td>9</td>\n",
       "      <td>0.0</td>\n",
       "      <td>9.93</td>\n",
       "      <td>2018</td>\n",
       "    </tr>\n",
       "    <tr>\n",
       "      <td>1</td>\n",
       "      <td>1</td>\n",
       "      <td>2</td>\n",
       "      <td>106</td>\n",
       "      <td>71</td>\n",
       "      <td>30.1</td>\n",
       "      <td>9</td>\n",
       "      <td>0.0</td>\n",
       "      <td>9.97</td>\n",
       "      <td>2018</td>\n",
       "    </tr>\n",
       "    <tr>\n",
       "      <td>2</td>\n",
       "      <td>1</td>\n",
       "      <td>3</td>\n",
       "      <td>106</td>\n",
       "      <td>81</td>\n",
       "      <td>29.5</td>\n",
       "      <td>9</td>\n",
       "      <td>0.0</td>\n",
       "      <td>9.77</td>\n",
       "      <td>2018</td>\n",
       "    </tr>\n",
       "    <tr>\n",
       "      <td>3</td>\n",
       "      <td>1</td>\n",
       "      <td>4</td>\n",
       "      <td>102</td>\n",
       "      <td>83</td>\n",
       "      <td>13.0</td>\n",
       "      <td>4</td>\n",
       "      <td>0.0</td>\n",
       "      <td>4.30</td>\n",
       "      <td>2018</td>\n",
       "    </tr>\n",
       "    <tr>\n",
       "      <td>4</td>\n",
       "      <td>1</td>\n",
       "      <td>5</td>\n",
       "      <td>105</td>\n",
       "      <td>80</td>\n",
       "      <td>30.1</td>\n",
       "      <td>9</td>\n",
       "      <td>0.0</td>\n",
       "      <td>9.97</td>\n",
       "      <td>2018</td>\n",
       "    </tr>\n",
       "    <tr>\n",
       "      <td>...</td>\n",
       "      <td>...</td>\n",
       "      <td>...</td>\n",
       "      <td>...</td>\n",
       "      <td>...</td>\n",
       "      <td>...</td>\n",
       "      <td>...</td>\n",
       "      <td>...</td>\n",
       "      <td>...</td>\n",
       "      <td>...</td>\n",
       "    </tr>\n",
       "    <tr>\n",
       "      <td>360</td>\n",
       "      <td>12</td>\n",
       "      <td>27</td>\n",
       "      <td>101</td>\n",
       "      <td>83</td>\n",
       "      <td>26.4</td>\n",
       "      <td>8</td>\n",
       "      <td>NaN</td>\n",
       "      <td>8.74</td>\n",
       "      <td>2018</td>\n",
       "    </tr>\n",
       "    <tr>\n",
       "      <td>361</td>\n",
       "      <td>12</td>\n",
       "      <td>28</td>\n",
       "      <td>102</td>\n",
       "      <td>84</td>\n",
       "      <td>25.8</td>\n",
       "      <td>8</td>\n",
       "      <td>NaN</td>\n",
       "      <td>8.54</td>\n",
       "      <td>2018</td>\n",
       "    </tr>\n",
       "    <tr>\n",
       "      <td>362</td>\n",
       "      <td>12</td>\n",
       "      <td>29</td>\n",
       "      <td>104</td>\n",
       "      <td>83</td>\n",
       "      <td>26.9</td>\n",
       "      <td>8</td>\n",
       "      <td>NaN</td>\n",
       "      <td>8.91</td>\n",
       "      <td>2018</td>\n",
       "    </tr>\n",
       "    <tr>\n",
       "      <td>363</td>\n",
       "      <td>12</td>\n",
       "      <td>30</td>\n",
       "      <td>105</td>\n",
       "      <td>80</td>\n",
       "      <td>25.1</td>\n",
       "      <td>8</td>\n",
       "      <td>NaN</td>\n",
       "      <td>8.31</td>\n",
       "      <td>2018</td>\n",
       "    </tr>\n",
       "    <tr>\n",
       "      <td>364</td>\n",
       "      <td>12</td>\n",
       "      <td>31</td>\n",
       "      <td>108</td>\n",
       "      <td>81</td>\n",
       "      <td>29.0</td>\n",
       "      <td>9</td>\n",
       "      <td>NaN</td>\n",
       "      <td>9.60</td>\n",
       "      <td>2018</td>\n",
       "    </tr>\n",
       "  </tbody>\n",
       "</table>\n",
       "<p>365 rows × 9 columns</p>\n",
       "</div>"
      ],
      "text/plain": [
       "     Month  Day TempHi TempLow  Solar  CloudCoverPercentage  Rainfallinmm  \\\n",
       "0        1    1    109      85   30.0                     9           0.0   \n",
       "1        1    2    106      71   30.1                     9           0.0   \n",
       "2        1    3    106      81   29.5                     9           0.0   \n",
       "3        1    4    102      83   13.0                     4           0.0   \n",
       "4        1    5    105      80   30.1                     9           0.0   \n",
       "..     ...  ...    ...     ...    ...                   ...           ...   \n",
       "360     12   27    101      83   26.4                     8           NaN   \n",
       "361     12   28    102      84   25.8                     8           NaN   \n",
       "362     12   29    104      83   26.9                     8           NaN   \n",
       "363     12   30    105      80   25.1                     8           NaN   \n",
       "364     12   31    108      81   29.0                     9           NaN   \n",
       "\n",
       "     PowerGeneratedinMW  Year  \n",
       "0                  9.93  2018  \n",
       "1                  9.97  2018  \n",
       "2                  9.77  2018  \n",
       "3                  4.30  2018  \n",
       "4                  9.97  2018  \n",
       "..                  ...   ...  \n",
       "360                8.74  2018  \n",
       "361                8.54  2018  \n",
       "362                8.91  2018  \n",
       "363                8.31  2018  \n",
       "364                9.60  2018  \n",
       "\n",
       "[365 rows x 9 columns]"
      ]
     },
     "execution_count": 98,
     "metadata": {},
     "output_type": "execute_result"
    }
   ],
   "source": [
    "new_df = solar_data.assign(Year='2018') #create a new column and fill it with a default value 2018 for the year chosen so that we can convert to datetime \n",
    "new_df "
   ]
  },
  {
   "cell_type": "code",
   "execution_count": 99,
   "metadata": {},
   "outputs": [],
   "source": [
    "new_df['Date'] = pd.to_datetime(new_df[['Year','Month', 'Day']]) #convert dates to datetime"
   ]
  },
  {
   "cell_type": "code",
   "execution_count": 100,
   "metadata": {},
   "outputs": [
    {
     "data": {
      "text/html": [
       "<div>\n",
       "<style scoped>\n",
       "    .dataframe tbody tr th:only-of-type {\n",
       "        vertical-align: middle;\n",
       "    }\n",
       "\n",
       "    .dataframe tbody tr th {\n",
       "        vertical-align: top;\n",
       "    }\n",
       "\n",
       "    .dataframe thead th {\n",
       "        text-align: right;\n",
       "    }\n",
       "</style>\n",
       "<table border=\"1\" class=\"dataframe\">\n",
       "  <thead>\n",
       "    <tr style=\"text-align: right;\">\n",
       "      <th></th>\n",
       "      <th>Month</th>\n",
       "      <th>Day</th>\n",
       "      <th>TempHi</th>\n",
       "      <th>TempLow</th>\n",
       "      <th>Solar</th>\n",
       "      <th>CloudCoverPercentage</th>\n",
       "      <th>Rainfallinmm</th>\n",
       "      <th>PowerGeneratedinMW</th>\n",
       "      <th>Year</th>\n",
       "      <th>Date</th>\n",
       "    </tr>\n",
       "  </thead>\n",
       "  <tbody>\n",
       "    <tr>\n",
       "      <td>100</td>\n",
       "      <td>4</td>\n",
       "      <td>11</td>\n",
       "      <td>93</td>\n",
       "      <td>73</td>\n",
       "      <td>22.6</td>\n",
       "      <td>7</td>\n",
       "      <td>0.0</td>\n",
       "      <td>7.48</td>\n",
       "      <td>2018</td>\n",
       "      <td>2018-04-11</td>\n",
       "    </tr>\n",
       "    <tr>\n",
       "      <td>101</td>\n",
       "      <td>4</td>\n",
       "      <td>12</td>\n",
       "      <td>93</td>\n",
       "      <td>64</td>\n",
       "      <td>22.6</td>\n",
       "      <td>7</td>\n",
       "      <td>0.0</td>\n",
       "      <td>7.48</td>\n",
       "      <td>2018</td>\n",
       "      <td>2018-04-12</td>\n",
       "    </tr>\n",
       "    <tr>\n",
       "      <td>102</td>\n",
       "      <td>4</td>\n",
       "      <td>13</td>\n",
       "      <td>95</td>\n",
       "      <td>64</td>\n",
       "      <td>22.4</td>\n",
       "      <td>7</td>\n",
       "      <td>0.0</td>\n",
       "      <td>7.42</td>\n",
       "      <td>2018</td>\n",
       "      <td>2018-04-13</td>\n",
       "    </tr>\n",
       "    <tr>\n",
       "      <td>103</td>\n",
       "      <td>4</td>\n",
       "      <td>14</td>\n",
       "      <td>97</td>\n",
       "      <td>67</td>\n",
       "      <td>22.3</td>\n",
       "      <td>7</td>\n",
       "      <td>0.0</td>\n",
       "      <td>7.38</td>\n",
       "      <td>2018</td>\n",
       "      <td>2018-04-14</td>\n",
       "    </tr>\n",
       "    <tr>\n",
       "      <td>104</td>\n",
       "      <td>4</td>\n",
       "      <td>15</td>\n",
       "      <td>95</td>\n",
       "      <td>76</td>\n",
       "      <td>22.2</td>\n",
       "      <td>7</td>\n",
       "      <td>0.0</td>\n",
       "      <td>7.35</td>\n",
       "      <td>2018</td>\n",
       "      <td>2018-04-15</td>\n",
       "    </tr>\n",
       "    <tr>\n",
       "      <td>...</td>\n",
       "      <td>...</td>\n",
       "      <td>...</td>\n",
       "      <td>...</td>\n",
       "      <td>...</td>\n",
       "      <td>...</td>\n",
       "      <td>...</td>\n",
       "      <td>...</td>\n",
       "      <td>...</td>\n",
       "      <td>...</td>\n",
       "      <td>...</td>\n",
       "    </tr>\n",
       "    <tr>\n",
       "      <td>195</td>\n",
       "      <td>7</td>\n",
       "      <td>15</td>\n",
       "      <td>75</td>\n",
       "      <td>47</td>\n",
       "      <td>18.0</td>\n",
       "      <td>6</td>\n",
       "      <td>0.0</td>\n",
       "      <td>5.96</td>\n",
       "      <td>2018</td>\n",
       "      <td>2018-07-15</td>\n",
       "    </tr>\n",
       "    <tr>\n",
       "      <td>196</td>\n",
       "      <td>7</td>\n",
       "      <td>16</td>\n",
       "      <td>78</td>\n",
       "      <td>47</td>\n",
       "      <td>18.0</td>\n",
       "      <td>6</td>\n",
       "      <td>0.0</td>\n",
       "      <td>5.96</td>\n",
       "      <td>2018</td>\n",
       "      <td>2018-07-16</td>\n",
       "    </tr>\n",
       "    <tr>\n",
       "      <td>197</td>\n",
       "      <td>7</td>\n",
       "      <td>17</td>\n",
       "      <td>77</td>\n",
       "      <td>48</td>\n",
       "      <td>18.2</td>\n",
       "      <td>6</td>\n",
       "      <td>0.0</td>\n",
       "      <td>6.03</td>\n",
       "      <td>2018</td>\n",
       "      <td>2018-07-17</td>\n",
       "    </tr>\n",
       "    <tr>\n",
       "      <td>198</td>\n",
       "      <td>7</td>\n",
       "      <td>18</td>\n",
       "      <td>82</td>\n",
       "      <td>43</td>\n",
       "      <td>18.2</td>\n",
       "      <td>6</td>\n",
       "      <td>0.0</td>\n",
       "      <td>6.03</td>\n",
       "      <td>2018</td>\n",
       "      <td>2018-07-18</td>\n",
       "    </tr>\n",
       "    <tr>\n",
       "      <td>199</td>\n",
       "      <td>7</td>\n",
       "      <td>19</td>\n",
       "      <td>84</td>\n",
       "      <td>47</td>\n",
       "      <td>18.3</td>\n",
       "      <td>6</td>\n",
       "      <td>0.0</td>\n",
       "      <td>6.06</td>\n",
       "      <td>2018</td>\n",
       "      <td>2018-07-19</td>\n",
       "    </tr>\n",
       "  </tbody>\n",
       "</table>\n",
       "<p>100 rows × 10 columns</p>\n",
       "</div>"
      ],
      "text/plain": [
       "     Month  Day TempHi TempLow  Solar  CloudCoverPercentage  Rainfallinmm  \\\n",
       "100      4   11     93      73   22.6                     7           0.0   \n",
       "101      4   12     93      64   22.6                     7           0.0   \n",
       "102      4   13     95      64   22.4                     7           0.0   \n",
       "103      4   14     97      67   22.3                     7           0.0   \n",
       "104      4   15     95      76   22.2                     7           0.0   \n",
       "..     ...  ...    ...     ...    ...                   ...           ...   \n",
       "195      7   15     75      47   18.0                     6           0.0   \n",
       "196      7   16     78      47   18.0                     6           0.0   \n",
       "197      7   17     77      48   18.2                     6           0.0   \n",
       "198      7   18     82      43   18.2                     6           0.0   \n",
       "199      7   19     84      47   18.3                     6           0.0   \n",
       "\n",
       "     PowerGeneratedinMW  Year       Date  \n",
       "100                7.48  2018 2018-04-11  \n",
       "101                7.48  2018 2018-04-12  \n",
       "102                7.42  2018 2018-04-13  \n",
       "103                7.38  2018 2018-04-14  \n",
       "104                7.35  2018 2018-04-15  \n",
       "..                  ...   ...        ...  \n",
       "195                5.96  2018 2018-07-15  \n",
       "196                5.96  2018 2018-07-16  \n",
       "197                6.03  2018 2018-07-17  \n",
       "198                6.03  2018 2018-07-18  \n",
       "199                6.06  2018 2018-07-19  \n",
       "\n",
       "[100 rows x 10 columns]"
      ]
     },
     "execution_count": 100,
     "metadata": {},
     "output_type": "execute_result"
    }
   ],
   "source": [
    "new_df[100:200]"
   ]
  },
  {
   "cell_type": "code",
   "execution_count": 101,
   "metadata": {},
   "outputs": [],
   "source": [
    "new_df[\"TempHi\"] = pd.to_numeric(new_df.TempHi, errors='coerce')"
   ]
  },
  {
   "cell_type": "code",
   "execution_count": 102,
   "metadata": {},
   "outputs": [],
   "source": [
    "new_df[\"TempLow\"] = pd.to_numeric(new_df.TempLow, errors='coerce')"
   ]
  },
  {
   "cell_type": "markdown",
   "metadata": {},
   "source": [
    "Because the api we are using presents temperature not as a maximum or minimum value but single value. Temperature recorded for a day however, is an average of max and min values and so we calculate the temperature average and conver it to celsius which the api is in by the calculation below."
   ]
  },
  {
   "cell_type": "code",
   "execution_count": 103,
   "metadata": {},
   "outputs": [],
   "source": [
    "new_df['Temp_avg'] = (((((new_df['TempHi']+new_df['TempLow'])/2)-32) * 5/9)) "
   ]
  },
  {
   "cell_type": "code",
   "execution_count": 104,
   "metadata": {},
   "outputs": [
    {
     "name": "stdout",
     "output_type": "stream",
     "text": [
      "<class 'pandas.core.frame.DataFrame'>\n",
      "RangeIndex: 365 entries, 0 to 364\n",
      "Data columns (total 11 columns):\n",
      "Month                   365 non-null int64\n",
      "Day                     365 non-null int64\n",
      "TempHi                  365 non-null int64\n",
      "TempLow                 365 non-null int64\n",
      "Solar                   365 non-null float64\n",
      "CloudCoverPercentage    365 non-null int64\n",
      "Rainfallinmm            312 non-null float64\n",
      "PowerGeneratedinMW      365 non-null float64\n",
      "Year                    365 non-null object\n",
      "Date                    365 non-null datetime64[ns]\n",
      "Temp_avg                365 non-null float64\n",
      "dtypes: datetime64[ns](1), float64(4), int64(5), object(1)\n",
      "memory usage: 31.5+ KB\n"
     ]
    }
   ],
   "source": [
    "new_df.info()"
   ]
  },
  {
   "cell_type": "code",
   "execution_count": 105,
   "metadata": {},
   "outputs": [
    {
     "data": {
      "text/plain": [
       "Month                    0\n",
       "Day                      0\n",
       "TempHi                   0\n",
       "TempLow                  0\n",
       "Solar                    0\n",
       "CloudCoverPercentage     0\n",
       "Rainfallinmm            53\n",
       "PowerGeneratedinMW       0\n",
       "Year                     0\n",
       "Date                     0\n",
       "Temp_avg                 0\n",
       "dtype: int64"
      ]
     },
     "execution_count": 105,
     "metadata": {},
     "output_type": "execute_result"
    }
   ],
   "source": [
    "new_df.isnull().sum() #check for missing values"
   ]
  },
  {
   "cell_type": "markdown",
   "metadata": {},
   "source": [
    "We fill in the missing values in the Rainfall column with 0, because it's plausible that the missing values could correspond to days where no rainfall was recorded and NaN was entered."
   ]
  },
  {
   "cell_type": "code",
   "execution_count": 106,
   "metadata": {},
   "outputs": [],
   "source": [
    "new_df['Rainfallinmm'] =new_df['Rainfallinmm'].fillna(0) #fill missing values in Rainfall column with 0"
   ]
  },
  {
   "cell_type": "code",
   "execution_count": 107,
   "metadata": {},
   "outputs": [
    {
     "data": {
      "text/html": [
       "<div>\n",
       "<style scoped>\n",
       "    .dataframe tbody tr th:only-of-type {\n",
       "        vertical-align: middle;\n",
       "    }\n",
       "\n",
       "    .dataframe tbody tr th {\n",
       "        vertical-align: top;\n",
       "    }\n",
       "\n",
       "    .dataframe thead th {\n",
       "        text-align: right;\n",
       "    }\n",
       "</style>\n",
       "<table border=\"1\" class=\"dataframe\">\n",
       "  <thead>\n",
       "    <tr style=\"text-align: right;\">\n",
       "      <th></th>\n",
       "      <th>Month</th>\n",
       "      <th>Day</th>\n",
       "      <th>TempHi</th>\n",
       "      <th>TempLow</th>\n",
       "      <th>Solar</th>\n",
       "      <th>CloudCoverPercentage</th>\n",
       "      <th>Rainfallinmm</th>\n",
       "      <th>PowerGeneratedinMW</th>\n",
       "      <th>Temp_avg</th>\n",
       "    </tr>\n",
       "  </thead>\n",
       "  <tbody>\n",
       "    <tr>\n",
       "      <td>count</td>\n",
       "      <td>365.000000</td>\n",
       "      <td>365.000000</td>\n",
       "      <td>365.000000</td>\n",
       "      <td>365.000000</td>\n",
       "      <td>365.000000</td>\n",
       "      <td>365.000000</td>\n",
       "      <td>365.000000</td>\n",
       "      <td>365.000000</td>\n",
       "      <td>365.000000</td>\n",
       "    </tr>\n",
       "    <tr>\n",
       "      <td>mean</td>\n",
       "      <td>6.526027</td>\n",
       "      <td>15.720548</td>\n",
       "      <td>91.687671</td>\n",
       "      <td>66.635616</td>\n",
       "      <td>22.615068</td>\n",
       "      <td>6.972603</td>\n",
       "      <td>2.339726</td>\n",
       "      <td>7.488192</td>\n",
       "      <td>26.200913</td>\n",
       "    </tr>\n",
       "    <tr>\n",
       "      <td>std</td>\n",
       "      <td>3.452584</td>\n",
       "      <td>8.808321</td>\n",
       "      <td>10.281531</td>\n",
       "      <td>10.750484</td>\n",
       "      <td>5.311600</td>\n",
       "      <td>1.699811</td>\n",
       "      <td>15.256405</td>\n",
       "      <td>1.759069</td>\n",
       "      <td>5.579957</td>\n",
       "    </tr>\n",
       "    <tr>\n",
       "      <td>min</td>\n",
       "      <td>1.000000</td>\n",
       "      <td>1.000000</td>\n",
       "      <td>66.000000</td>\n",
       "      <td>43.000000</td>\n",
       "      <td>1.500000</td>\n",
       "      <td>1.000000</td>\n",
       "      <td>0.000000</td>\n",
       "      <td>0.500000</td>\n",
       "      <td>13.888889</td>\n",
       "    </tr>\n",
       "    <tr>\n",
       "      <td>25%</td>\n",
       "      <td>4.000000</td>\n",
       "      <td>8.000000</td>\n",
       "      <td>83.000000</td>\n",
       "      <td>58.000000</td>\n",
       "      <td>18.500000</td>\n",
       "      <td>6.000000</td>\n",
       "      <td>0.000000</td>\n",
       "      <td>6.130000</td>\n",
       "      <td>21.388889</td>\n",
       "    </tr>\n",
       "    <tr>\n",
       "      <td>50%</td>\n",
       "      <td>7.000000</td>\n",
       "      <td>16.000000</td>\n",
       "      <td>93.000000</td>\n",
       "      <td>68.000000</td>\n",
       "      <td>22.800000</td>\n",
       "      <td>7.000000</td>\n",
       "      <td>0.000000</td>\n",
       "      <td>7.550000</td>\n",
       "      <td>27.222222</td>\n",
       "    </tr>\n",
       "    <tr>\n",
       "      <td>75%</td>\n",
       "      <td>10.000000</td>\n",
       "      <td>23.000000</td>\n",
       "      <td>99.000000</td>\n",
       "      <td>75.000000</td>\n",
       "      <td>27.000000</td>\n",
       "      <td>9.000000</td>\n",
       "      <td>0.000000</td>\n",
       "      <td>8.940000</td>\n",
       "      <td>30.277778</td>\n",
       "    </tr>\n",
       "    <tr>\n",
       "      <td>max</td>\n",
       "      <td>12.000000</td>\n",
       "      <td>31.000000</td>\n",
       "      <td>111.000000</td>\n",
       "      <td>94.000000</td>\n",
       "      <td>30.200000</td>\n",
       "      <td>9.000000</td>\n",
       "      <td>161.500000</td>\n",
       "      <td>10.000000</td>\n",
       "      <td>36.666667</td>\n",
       "    </tr>\n",
       "  </tbody>\n",
       "</table>\n",
       "</div>"
      ],
      "text/plain": [
       "            Month         Day      TempHi     TempLow       Solar  \\\n",
       "count  365.000000  365.000000  365.000000  365.000000  365.000000   \n",
       "mean     6.526027   15.720548   91.687671   66.635616   22.615068   \n",
       "std      3.452584    8.808321   10.281531   10.750484    5.311600   \n",
       "min      1.000000    1.000000   66.000000   43.000000    1.500000   \n",
       "25%      4.000000    8.000000   83.000000   58.000000   18.500000   \n",
       "50%      7.000000   16.000000   93.000000   68.000000   22.800000   \n",
       "75%     10.000000   23.000000   99.000000   75.000000   27.000000   \n",
       "max     12.000000   31.000000  111.000000   94.000000   30.200000   \n",
       "\n",
       "       CloudCoverPercentage  Rainfallinmm  PowerGeneratedinMW    Temp_avg  \n",
       "count            365.000000    365.000000          365.000000  365.000000  \n",
       "mean               6.972603      2.339726            7.488192   26.200913  \n",
       "std                1.699811     15.256405            1.759069    5.579957  \n",
       "min                1.000000      0.000000            0.500000   13.888889  \n",
       "25%                6.000000      0.000000            6.130000   21.388889  \n",
       "50%                7.000000      0.000000            7.550000   27.222222  \n",
       "75%                9.000000      0.000000            8.940000   30.277778  \n",
       "max                9.000000    161.500000           10.000000   36.666667  "
      ]
     },
     "execution_count": 107,
     "metadata": {},
     "output_type": "execute_result"
    }
   ],
   "source": [
    "new_df.describe()"
   ]
  },
  {
   "cell_type": "markdown",
   "metadata": {},
   "source": [
    "### Visualization"
   ]
  },
  {
   "cell_type": "code",
   "execution_count": 108,
   "metadata": {},
   "outputs": [
    {
     "data": {
      "image/png": "[encoded data removed]",
      "text/plain": [
       "<Figure size 1800x1800 with 9 Axes>"
      ]
     },
     "metadata": {
      "needs_background": "light"
     },
     "output_type": "display_data"
    }
   ],
   "source": [
    "pd.DataFrame.hist(new_df, figsize=(25,25));"
   ]
  },
  {
   "cell_type": "code",
   "execution_count": 109,
   "metadata": {},
   "outputs": [
    {
     "data": {
      "text/plain": [
       "Text(0.5, 1.0, 'Box plot of Power Generated')"
      ]
     },
     "execution_count": 109,
     "metadata": {},
     "output_type": "execute_result"
    },
    {
     "data": {
      "image/png": "[encoded data removed]",
      "text/plain": [
       "<Figure size 432x288 with 1 Axes>"
      ]
     },
     "metadata": {
      "needs_background": "light"
     },
     "output_type": "display_data"
    }
   ],
   "source": [
    "sns.boxplot(x='PowerGeneratedinMW', data=new_df)\n",
    "plt.title('Box plot of Power Generated')"
   ]
  },
  {
   "cell_type": "code",
   "execution_count": 110,
   "metadata": {},
   "outputs": [],
   "source": [
    "from matplotlib import pyplot"
   ]
  },
  {
   "cell_type": "code",
   "execution_count": 111,
   "metadata": {},
   "outputs": [
    {
     "data": {
      "text/plain": [
       "[<matplotlib.lines.Line2D at 0x19895378f08>]"
      ]
     },
     "execution_count": 111,
     "metadata": {},
     "output_type": "execute_result"
    },
    {
     "data": {
      "image/png": "[encoded data removed]",
      "text/plain": [
       "<Figure size 1440x720 with 1 Axes>"
      ]
     },
     "metadata": {
      "needs_background": "light"
     },
     "output_type": "display_data"
    }
   ],
   "source": [
    "#date_= new_df['Date'].tolist()               #store the timestamp in a separate list to be used later\n",
    "pyplot.figure(figsize=(20,10))               # set size of plot figure\n",
    "pyplot.plot(new_df['Date'],                           # plto the time (x-axis) against\n",
    "            new_df['PowerGeneratedinMW'],   # bitcoin closing price (y-axis)\n",
    "            'r--') "
   ]
  },
  {
   "cell_type": "raw",
   "metadata": {},
   "source": [
    "Correlation "
   ]
  },
  {
   "cell_type": "markdown",
   "metadata": {},
   "source": [
    "We check for correlation between our target and predictor variables before moving on to Modelling. "
   ]
  },
  {
   "cell_type": "code",
   "execution_count": 112,
   "metadata": {},
   "outputs": [
    {
     "data": {
      "text/plain": [
       "<matplotlib.axes._subplots.AxesSubplot at 0x19895338248>"
      ]
     },
     "execution_count": 112,
     "metadata": {},
     "output_type": "execute_result"
    },
    {
     "data": {
      "image/png": "[encoded data removed]",
      "text/plain": [
       "<Figure size 1152x1152 with 2 Axes>"
      ]
     },
     "metadata": {
      "needs_background": "light"
     },
     "output_type": "display_data"
    }
   ],
   "source": [
    "corr = new_df.corr()\n",
    "plt.figure(figsize=(16, 16))\n",
    "sns.heatmap(corr, xticklabels=corr.columns.values, \n",
    "            yticklabels=corr.columns.values,  \n",
    "            linewidths=.1,                   # set linewidth between entries in matrix\n",
    "           cbar_kws={\"shrink\": .7}) "
   ]
  },
  {
   "cell_type": "markdown",
   "metadata": {},
   "source": [
    "Training the Model"
   ]
  },
  {
   "cell_type": "code",
   "execution_count": 113,
   "metadata": {},
   "outputs": [],
   "source": [
    "data_model=new_df.drop(['PowerGeneratedinMW','Date','Solar','TempHi','TempLow','Day', 'Month','Year'], axis=1) #drop the target variable and columns with string\n",
    "X = data_model.values"
   ]
  },
  {
   "cell_type": "code",
   "execution_count": 114,
   "metadata": {},
   "outputs": [],
   "source": [
    "y = new_df['PowerGeneratedinMW'].values"
   ]
  },
  {
   "cell_type": "code",
   "execution_count": 115,
   "metadata": {},
   "outputs": [],
   "source": [
    "from sklearn.model_selection import train_test_split\n",
    "from sklearn.preprocessing import StandardScaler"
   ]
  },
  {
   "cell_type": "code",
   "execution_count": 116,
   "metadata": {},
   "outputs": [],
   "source": [
    "X = StandardScaler().fit_transform(X)"
   ]
  },
  {
   "cell_type": "code",
   "execution_count": 117,
   "metadata": {},
   "outputs": [],
   "source": [
    "# create training and testing sets\n",
    "X_train, X_test, y_train, y_test = train_test_split(X, y, test_size=0.2)"
   ]
  },
  {
   "cell_type": "markdown",
   "metadata": {},
   "source": [
    "Fit the model"
   ]
  },
  {
   "cell_type": "code",
   "execution_count": 118,
   "metadata": {},
   "outputs": [],
   "source": [
    "from sklearn import linear_model\n",
    "lm = linear_model.LinearRegression()\n",
    "model = lm.fit(X_train,y_train)"
   ]
  },
  {
   "cell_type": "code",
   "execution_count": 119,
   "metadata": {},
   "outputs": [],
   "source": [
    "predictions = lm.predict(X_test)"
   ]
  },
  {
   "cell_type": "code",
   "execution_count": 120,
   "metadata": {},
   "outputs": [
    {
     "name": "stdout",
     "output_type": "stream",
     "text": [
      "[5.54632552 6.49551218 9.54005148 8.52993489 9.52940067]\n"
     ]
    }
   ],
   "source": [
    "print(predictions[0:5])"
   ]
  },
  {
   "cell_type": "markdown",
   "metadata": {},
   "source": [
    "Score the model"
   ]
  },
  {
   "cell_type": "code",
   "execution_count": 121,
   "metadata": {},
   "outputs": [
    {
     "data": {
      "text/plain": [
       "0.9698845267859032"
      ]
     },
     "execution_count": 121,
     "metadata": {},
     "output_type": "execute_result"
    }
   ],
   "source": [
    "from sklearn.metrics import r2_score\n",
    "score = r2_score(y_test, predictions)\n",
    "score"
   ]
  },
  {
   "cell_type": "raw",
   "metadata": {},
   "source": [
    "Cross Validation"
   ]
  },
  {
   "cell_type": "code",
   "execution_count": 122,
   "metadata": {},
   "outputs": [],
   "source": [
    "from sklearn.model_selection import KFold\n",
    "from sklearn.model_selection import cross_val_score"
   ]
  },
  {
   "cell_type": "code",
   "execution_count": 123,
   "metadata": {},
   "outputs": [
    {
     "name": "stdout",
     "output_type": "stream",
     "text": [
      "Accuracy: 0.8565971247808539\n"
     ]
    }
   ],
   "source": [
    "kfold=KFold(n_splits=5,random_state=7)\n",
    "results=cross_val_score(model, X, y.ravel(), cv=kfold)\n",
    "print('Accuracy:', results.mean())"
   ]
  },
  {
   "cell_type": "code",
   "execution_count": 124,
   "metadata": {},
   "outputs": [],
   "source": [
    "# pkl_filename = \"model_filename.pkl\"\n",
    "# with open(pkl_filename, 'wb') as file:\n",
    "#     pickle.dump(lm, file)"
   ]
  },
  {
   "cell_type": "code",
   "execution_count": 125,
   "metadata": {},
   "outputs": [],
   "source": [
    "with open(r\"C:\\Users\\Admin\\Documents\\AIIP\\AppDev\\Practice\\model_solar.pkl\", 'wb') as f_out:\n",
    "    pickle.dump(lm,f_out)\n",
    "f_out.close()"
   ]
  },
  {
   "cell_type": "code",
   "execution_count": 126,
   "metadata": {},
   "outputs": [],
   "source": [
    "# print(model.predict[[27,5,0]])"
   ]
  },
  {
   "cell_type": "code",
   "execution_count": null,
   "metadata": {},
   "outputs": [],
   "source": []
  },
  {
   "cell_type": "code",
   "execution_count": null,
   "metadata": {},
   "outputs": [],
   "source": []
  },
  {
   "cell_type": "code",
   "execution_count": null,
   "metadata": {},
   "outputs": [],
   "source": []
  },
  {
   "cell_type": "code",
   "execution_count": null,
   "metadata": {},
   "outputs": [],
   "source": []
  },
  {
   "cell_type": "code",
   "execution_count": null,
   "metadata": {},
   "outputs": [],
   "source": []
  }
 ],
 "metadata": {
  "kernelspec": {
   "display_name": "Python 3",
   "language": "python",
   "name": "python3"
  },
  "language_info": {
   "codemirror_mode": {
    "name": "ipython",
    "version": 3
   },
   "file_extension": ".py",
   "mimetype": "text/x-python",
   "name": "python",
   "nbconvert_exporter": "python",
   "pygments_lexer": "ipython3",
   "version": "3.6.10"
  }
 },
 "nbformat": 4,
 "nbformat_minor": 2
}
